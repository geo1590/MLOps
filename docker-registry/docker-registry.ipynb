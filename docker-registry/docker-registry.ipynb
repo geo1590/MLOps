{
 "cells": [
  {
   "cell_type": "markdown",
   "id": "9fda7592",
   "metadata": {},
   "source": [
    "This Notebook will setup a docker container registry. Once setup, it can be used from a remote docker client. But, no security was configured, so this is the insecured method. An example on how a remote docker client can use it is at the end of this notebook. This works on the Github Codespaces and a Linux VM. It does NOT work on the Kaggle or Google Colab."
   ]
  },
  {
   "cell_type": "code",
   "execution_count": null,
   "id": "4cf37096",
   "metadata": {},
   "outputs": [],
   "source": [
    "# Delete all docker images and instances.\n",
    "!docker rm -f $(docker ps -aq)\n",
    "!docker rmi -f $(docker images -aq)\n",
    "!echo \"-----------\"\n",
    "!docker ps -a\n",
    "!echo \"\"\n",
    "!docker image ls"
   ]
  },
  {
   "cell_type": "code",
   "execution_count": null,
   "id": "e400b651",
   "metadata": {},
   "outputs": [],
   "source": [
    "# Create and start the docker container registry.\n",
    "!docker run -d -p 5000:5000 --name registry --restart=always registry\n",
    "!echo \"-----------\"\n",
    "!docker image ls\n",
    "!echo \"\"\n",
    "!docker ps -a"
   ]
  },
  {
   "cell_type": "code",
   "execution_count": null,
   "id": "ddc16635",
   "metadata": {},
   "outputs": [],
   "source": [
    "# Locally test the docker container registry.\n",
    "!curl http://localhost:5000/v2/_catalog\n",
    "!docker pull ubuntu\n",
    "!docker tag ubuntu localhost:5000/my-image-3825\n",
    "!docker push localhost:5000/my-image-3825"
   ]
  },
  {
   "cell_type": "code",
   "execution_count": null,
   "id": "8a88fc1e",
   "metadata": {},
   "outputs": [],
   "source": [
    "# Find the URL the remote docker clients should use.\n",
    "import os\n",
    "import subprocess\n",
    "\n",
    "name = os.environ.get(\"CODESPACE_NAME\")\n",
    "domain = os.environ.get(\"GITHUB_CODESPACES_PORT_FORWARDING_DOMAIN\")\n",
    "port = subprocess.run(\"docker port registry | sed 's/.*://' | head -n 1\", shell=True, capture_output=True, text=True).stdout.strip()\n",
    "url = f\"{name}-{port}.{domain}\"\n",
    "os.environ[\"DCR_URL\"] = url\n",
    "!echo \"# Below is the CLI command the remote docker clients should use.\"\n",
    "!echo \"export DCR_URL=$DCR_URL\""
   ]
  },
  {
   "cell_type": "markdown",
   "id": "37b2761a",
   "metadata": {},
   "source": [
    "This Docker Container Registry is all set up and working. It was tested with commands executed locally. Here are CLI commands to test it from a remote docker client.\n",
    "It also shows how a docker client can use it.<br>\n",
    "```\n",
    "    % export DCR_URL=<use the URL shown above>\n",
    "    \t# Instead of the above URL address, use the one specific to your GitHub Codespaces session.\n",
    "        # Do NOT include the 'http://' or 'https://' part.\n",
    "    % curl https://$DCR_URL/v2/_catalog\n",
    "        # Verify you see the image 'my-image-3825'.\n",
    "    % docker tag ubuntu $DCR_URL/my-image-3825\n",
    "        # Change tag such that the URL ($DCR_URL) points to your docker registry.\n",
    "    % docker push $DCR_URL/my-image-3825\n",
    "        # Push this to your docker registry.\n",
    "    % docker pull ubuntu\n",
    "        # Pull from docker.com.\n",
    "    % docker tag ubuntu $DCR_URL/my-image-5031\n",
    "        # Change tag such that the URL ($DCR_URL) points to your docker registry.\n",
    "    % docker push $DCR_URL/my-image-5031\n",
    "        # Push this to your docker registry.\n",
    "    % curl https://$DCR_URL/v2/_catalog\n",
    "        # Verify you see the image 'my-image-5031'.\n",
    "```"
   ]
  },
  {
   "cell_type": "code",
   "execution_count": null,
   "id": "69db9db1",
   "metadata": {},
   "outputs": [],
   "source": [
    "# The GitHub Codespaces will idle timeout and your docker setup will be deleted. To prevent this, you need to create a keepalive.\n",
    "# But, even with this, there is a hard time limit. The default idle timeout is 30 minutes. The maximum runtime length is unknown due to a lack of info.\n",
    "import time\n",
    "while True:\n",
    "    time.sleep(5*60)\n",
    "    print(\".\", end=\"\")"
   ]
  },
  {
   "cell_type": "code",
   "execution_count": null,
   "id": "4385cb71",
   "metadata": {},
   "outputs": [],
   "source": []
  }
 ],
 "metadata": {
  "kernelspec": {
   "display_name": "Python 3",
   "language": "python",
   "name": "python3"
  },
  "language_info": {
   "codemirror_mode": {
    "name": "ipython",
    "version": 3
   },
   "file_extension": ".py",
   "mimetype": "text/x-python",
   "name": "python",
   "nbconvert_exporter": "python",
   "pygments_lexer": "ipython3",
   "version": "3.12.1"
  }
 },
 "nbformat": 4,
 "nbformat_minor": 5
}
