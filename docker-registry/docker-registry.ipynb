{
 "cells": [
  {
   "cell_type": "code",
   "execution_count": 2,
   "id": "1b119a2f",
   "metadata": {},
   "outputs": [
    {
     "name": "stdout",
     "output_type": "stream",
     "text": [
      "Hit:1 https://packages.microsoft.com/repos/microsoft-ubuntu-noble-prod noble InRelease\n",
      "Hit:2 http://archive.ubuntu.com/ubuntu noble InRelease                         \u001b[0m\n",
      "Hit:3 https://dl.yarnpkg.com/debian stable InRelease                           \u001b[0m\n",
      "Hit:4 http://archive.ubuntu.com/ubuntu noble-updates InRelease      \u001b[0m\u001b[33m  \n",
      "Hit:5 http://security.ubuntu.com/ubuntu noble-security InRelease    \n",
      "Hit:6 https://repo.anaconda.com/pkgs/misc/debrepo/conda stable InRelease\n",
      "Hit:7 http://archive.ubuntu.com/ubuntu noble-backports InRelease\n",
      "Reading package lists... Done\u001b[33m\u001b[33m\u001b[33m\u001b[33m\n",
      "Building dependency tree... Done\n",
      "Reading state information... Done\n",
      "55 packages can be upgraded. Run 'apt list --upgradable' to see them.\n",
      "Reading package lists... Done\n",
      "Building dependency tree... Done\n",
      "Reading state information... Done\n",
      "apache2-utils is already the newest version (2.4.58-1ubuntu8.8).\n",
      "0 upgraded, 0 newly installed, 0 to remove and 55 not upgraded.\n",
      "Reading package lists... Done\n",
      "Building dependency tree... Done\n",
      "Reading state information... Done\n",
      "The following additional packages will be installed:\n",
      "  tcl-expect\n",
      "The following NEW packages will be installed:\n",
      "  expect tcl-expect\n",
      "0 upgraded, 2 newly installed, 0 to remove and 55 not upgraded.\n",
      "Need to get 247 kB of archives.\n",
      "After this operation, 538 kB of additional disk space will be used.\n",
      "Get:1 http://archive.ubuntu.com/ubuntu noble/universe amd64 tcl-expect amd64 5.45.4-3 [110 kB]\n",
      "Get:2 http://archive.ubuntu.com/ubuntu noble/universe amd64 expect amd64 5.45.4-3 [137 kB]\n",
      "Fetched 247 kB in 1s (467 kB/s)  \u001b[0m\u001b[33m\n",
      "\n",
      "\u001b7\u001b[0;23r\u001b8\u001b[1ASelecting previously unselected package tcl-expect:amd64.\n",
      "(Reading database ... 58679 files and directories currently installed.)\n",
      "Preparing to unpack .../tcl-expect_5.45.4-3_amd64.deb ...\n",
      "\u001b7\u001b[24;0f\u001b[42m\u001b[30mProgress: [  0%]\u001b[49m\u001b[39m [..........................................................] \u001b8\u001b7\u001b[24;0f\u001b[42m\u001b[30mProgress: [ 11%]\u001b[49m\u001b[39m [######....................................................] \u001b8Unpacking tcl-expect:amd64 (5.45.4-3) ...\n",
      "\u001b7\u001b[24;0f\u001b[42m\u001b[30mProgress: [ 22%]\u001b[49m\u001b[39m [############..............................................] \u001b8Selecting previously unselected package expect.\n",
      "Preparing to unpack .../expect_5.45.4-3_amd64.deb ...\n",
      "\u001b7\u001b[24;0f\u001b[42m\u001b[30mProgress: [ 33%]\u001b[49m\u001b[39m [###################.......................................] \u001b8Unpacking expect (5.45.4-3) ...\n",
      "\u001b7\u001b[24;0f\u001b[42m\u001b[30mProgress: [ 44%]\u001b[49m\u001b[39m [#########################.................................] \u001b8Setting up tcl-expect:amd64 (5.45.4-3) ...\n",
      "\u001b7\u001b[24;0f\u001b[42m\u001b[30mProgress: [ 56%]\u001b[49m\u001b[39m [################################..........................] \u001b8\u001b7\u001b[24;0f\u001b[42m\u001b[30mProgress: [ 67%]\u001b[49m\u001b[39m [######################################....................] \u001b8Setting up expect (5.45.4-3) ...\n",
      "\u001b7\u001b[24;0f\u001b[42m\u001b[30mProgress: [ 78%]\u001b[49m\u001b[39m [#############################################.............] \u001b8\u001b7\u001b[24;0f\u001b[42m\u001b[30mProgress: [ 89%]\u001b[49m\u001b[39m [###################################################.......] \u001b8Processing triggers for man-db (2.12.0-4build2) ...\n",
      "Processing triggers for libc-bin (2.39-0ubuntu8.4) ...\n",
      "\n",
      "\u001b7\u001b[0;24r\u001b8\u001b[1A\u001b[J"
     ]
    }
   ],
   "source": [
    "!sudo apt -y update\n",
    "!sudo apt -y install apache2-utils\n",
    "!sudo apt -y install expect"
   ]
  },
  {
   "cell_type": "code",
   "execution_count": null,
   "id": "27479549",
   "metadata": {},
   "outputs": [
    {
     "name": "stdout",
     "output_type": "stream",
     "text": [
      "/workspaces/MLOps\n",
      "Adding password for user user1\n",
      "Adding password for user user2\n",
      "\n",
      "Here is the htpasswd file:\n",
      "------------------\n",
      "user1:$apr1$No5wVtvE$ZFrgsanjGqE7vE23qOGNI0\n",
      "user2:$apr1$1ExLJf9Y$XjHGY3ZMr3pIy9tLEM/xd0\n"
     ]
    }
   ],
   "source": [
    "import os\n",
    "os.makedirs('/tmp/auth', exist_ok=True)\n",
    "\n",
    "!htpasswd -b -c /tmp/auth/htpasswd user1 \"pass1\"\n",
    "!htpasswd -b /tmp/auth/htpasswd user2 \"pass2\"\n",
    "print(f'\\nHere is the htpasswd file:\\n------------------')\n",
    "!cat /tmp/auth/htpasswd"
   ]
  },
  {
   "cell_type": "code",
   "execution_count": 11,
   "id": "77e03819",
   "metadata": {},
   "outputs": [
    {
     "name": "stdout",
     "output_type": "stream",
     "text": [
      "CONTAINER ID   IMAGE     COMMAND   CREATED   STATUS    PORTS     NAMES\n"
     ]
    },
    {
     "name": "stdout",
     "output_type": "stream",
     "text": [
      "5c507b8e17e0992da5487c8441c3dfbbbc465d55e93bdbcbd424a47fc1e3d6c9\n",
      "CONTAINER ID   IMAGE        COMMAND                  CREATED                  STATUS                  PORTS                                         NAMES\n",
      "5c507b8e17e0   registry:2   \"/entrypoint.sh /etc…\"   Less than a second ago   Up Less than a second   0.0.0.0:5000->5000/tcp, [::]:5000->5000/tcp   registry\n"
     ]
    }
   ],
   "source": [
    "! docker ps -a\n",
    "!docker run -d \\\n",
    "  -p 5000:5000 \\\n",
    "  --restart=always \\\n",
    "  --name registry \\\n",
    "  -v /tmp/auth:/auth \\\n",
    "  -e \"REGISTRY_AUTH=htpasswd\" \\\n",
    "  -e \"REGISTRY_AUTH_HTPASSWD_REALM=Registry Realm\" \\\n",
    "  -e \"REGISTRY_AUTH_HTPASSWD_PATH=/auth/htpasswd\" \\\n",
    "  registry:2\n",
    "! docker ps -a"
   ]
  },
  {
   "cell_type": "code",
   "execution_count": 6,
   "id": "5b6f6f19",
   "metadata": {},
   "outputs": [
    {
     "name": "stdout",
     "output_type": "stream",
     "text": [
      "REGISTRY_AUTH='htpasswd'\n",
      "REGISTRY_AUTH_HTPASSWD_PATH='/tmp/auth/htpasswd'\n",
      "REGISTRY_AUTH_HTPASSWD_REALM='Registry Realm'\n"
     ]
    }
   ],
   "source": [
    "\n",
    "!docker exec -it registry sh -c 'set | egrep REGISTRY_'\n",
    "\t# Verify you see the REGISTRY_* environment variables configured above."
   ]
  },
  {
   "cell_type": "code",
   "execution_count": 15,
   "id": "112f8ded",
   "metadata": {},
   "outputs": [
    {
     "name": "stdout",
     "output_type": "stream",
     "text": [
      "The local file and the one inside the docker registry should be the same.\n",
      "\n",
      "Here is the htpasswd file:\n",
      "------------------\n",
      "user1:$apr1$No5wVtvE$ZFrgsanjGqE7vE23qOGNI0\n",
      "user2:$apr1$1ExLJf9Y$XjHGY3ZMr3pIy9tLEM/xd0\n",
      "\n",
      "Here is what is found inside the docker regitry:\n",
      "------------------\n",
      "user1:$apr1$No5wVtvE$ZFrgsanjGqE7vE23qOGNI0\n",
      "user2:$apr1$1ExLJf9Y$XjHGY3ZMr3pIy9tLEM/xd0\n"
     ]
    }
   ],
   "source": [
    "print(f'The local file and the one inside the docker registry should be the same.')\n",
    "print(f'\\nHere is the htpasswd file:\\n------------------')\n",
    "!cat /tmp/auth/htpasswd\n",
    "print(f'\\nHere is what is found inside the docker regitry:\\n------------------')\n",
    "!docker exec -it registry sh -c 'cat /auth/htpasswd'\n",
    "\t# Verify the contents of both files (local file and file inside running container) is the same file."
   ]
  },
  {
   "cell_type": "code",
   "execution_count": 16,
   "id": "f4a96f24",
   "metadata": {},
   "outputs": [
    {
     "name": "stdout",
     "output_type": "stream",
     "text": [
      "The docker container registry is done. You can now access it via remotely.\n"
     ]
    }
   ],
   "source": [
    "print(f'The docker container registry is done. You can now access it via remotely.')"
   ]
  },
  {
   "cell_type": "code",
   "execution_count": 16,
   "id": "bc05cf91",
   "metadata": {},
   "outputs": [
    {
     "name": "stdout",
     "output_type": "stream",
     "text": [
      "random_number: 48400\n",
      "\n",
      "{\"errors\":[{\"code\":\"UNAUTHORIZED\",\"message\":\"authentication required\",\"detail\":[{\"Type\":\"registry\",\"Class\":\"\",\"Name\":\"catalog\",\"Action\":\"*\"}]}]}\n"
     ]
    },
    {
     "name": "stdout",
     "output_type": "stream",
     "text": [
      "\n",
      "Using default tag: latest\n",
      "latest: Pulling from library/ubuntu\n",
      "Digest: sha256:7c06e91f61fa88c08cc74f7e1b7c69ae24910d745357e0dfe1d2c0322aaf20f9\n",
      "Status: Image is up to date for ubuntu:latest\n",
      "docker.io/library/ubuntu:latest\n",
      "\n",
      "REPOSITORY                      TAG       IMAGE ID       CREATED         SIZE\n",
      "localhost:5000/my-image-66314   latest    e0f16e6366fe   4 weeks ago     78.1MB\n",
      "localhost:5000/my-image-91151   latest    e0f16e6366fe   4 weeks ago     78.1MB\n",
      "ubuntu                          latest    e0f16e6366fe   4 weeks ago     78.1MB\n",
      "localhost:5000/my-image-12613   latest    e0f16e6366fe   4 weeks ago     78.1MB\n",
      "localhost:5000/my-image-13801   latest    e0f16e6366fe   4 weeks ago     78.1MB\n",
      "localhost:5000/my-image-49860   latest    e0f16e6366fe   4 weeks ago     78.1MB\n",
      "localhost:5000/my-image-20812   latest    e0f16e6366fe   4 weeks ago     78.1MB\n",
      "localhost:5000/my-image-87790   latest    e0f16e6366fe   4 weeks ago     78.1MB\n",
      "localhost:5000/my-image-91190   latest    e0f16e6366fe   4 weeks ago     78.1MB\n",
      "registry                        2         26b2eb03618e   23 months ago   25.4MB\n",
      "\n",
      "Using default tag: latest\n",
      "latest: Pulling from library/ubuntu\n",
      "Digest: sha256:7c06e91f61fa88c08cc74f7e1b7c69ae24910d745357e0dfe1d2c0322aaf20f9\n",
      "Status: Image is up to date for ubuntu:latest\n",
      "docker.io/library/ubuntu:latest\n",
      "\n",
      "\n",
      "Using default tag: latest\n",
      "The push refers to repository [localhost:5000/my-image-48400]\n",
      "cd9664b1462e: Preparing\n",
      "\n",
      "================\n",
      "REPOSITORY                      TAG       IMAGE ID       CREATED         SIZE\n",
      "ubuntu                          latest    e0f16e6366fe   4 weeks ago     78.1MB\n",
      "localhost:5000/my-image-12613   latest    e0f16e6366fe   4 weeks ago     78.1MB\n",
      "localhost:5000/my-image-13801   latest    e0f16e6366fe   4 weeks ago     78.1MB\n",
      "localhost:5000/my-image-66314   latest    e0f16e6366fe   4 weeks ago     78.1MB\n",
      "localhost:5000/my-image-87790   latest    e0f16e6366fe   4 weeks ago     78.1MB\n",
      "localhost:5000/my-image-91190   latest    e0f16e6366fe   4 weeks ago     78.1MB\n",
      "localhost:5000/my-image-20812   latest    e0f16e6366fe   4 weeks ago     78.1MB\n",
      "localhost:5000/my-image-48400   latest    e0f16e6366fe   4 weeks ago     78.1MB\n",
      "localhost:5000/my-image-49860   latest    e0f16e6366fe   4 weeks ago     78.1MB\n",
      "localhost:5000/my-image-91151   latest    e0f16e6366fe   4 weeks ago     78.1MB\n",
      "registry                        2         26b2eb03618e   23 months ago   25.4MB\n",
      "\n"
     ]
    },
    {
     "name": "stderr",
     "output_type": "stream",
     "text": [
      "no basic auth credentials\n"
     ]
    }
   ],
   "source": [
    "# Locally test the docker container registry.\n",
    "import random\n",
    "import os\n",
    "import subprocess\n",
    "import re\n",
    "\n",
    "random_number = random.randint(10000, 99999)\n",
    "print(f'random_number: {random_number}')\n",
    "print('')\n",
    "!curl http://localhost:5000/v2/_catalog\n",
    "print('')\n",
    "!docker pull ubuntu\n",
    "print('')\n",
    "!docker image ls\n",
    "print('')\n",
    "!docker pull ubuntu\n",
    "print('')\n",
    "os.system(f'docker tag ubuntu localhost:5000/my-image-{random_number}')\n",
    "print('')\n",
    "os.system(f'docker push localhost:5000/my-image-{random_number}')\n",
    "print('')\n",
    "print('================')\n",
    "result = subprocess.run('docker image ls'.split(), capture_output=True, text=True)\n",
    "print(f'{result.stdout}')\n",
    "if not re.search(f'localhost:5000/my-image-{random_number}', result.stdout):\n",
    "    raise('ERROR: It failed')"
   ]
  },
  {
   "cell_type": "code",
   "execution_count": null,
   "id": "ea67e7f9",
   "metadata": {},
   "outputs": [],
   "source": []
  }
 ],
 "metadata": {
  "kernelspec": {
   "display_name": "Python 3",
   "language": "python",
   "name": "python3"
  },
  "language_info": {
   "codemirror_mode": {
    "name": "ipython",
    "version": 3
   },
   "file_extension": ".py",
   "mimetype": "text/x-python",
   "name": "python",
   "nbconvert_exporter": "python",
   "pygments_lexer": "ipython3",
   "version": "3.12.1"
  }
 },
 "nbformat": 4,
 "nbformat_minor": 5
}
